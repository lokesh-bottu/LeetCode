{
 "cells": [
  {
   "cell_type": "code",
   "execution_count": 29,
   "id": "c5f887d8",
   "metadata": {},
   "outputs": [
    {
     "name": "stdout",
     "output_type": "stream",
     "text": [
      "True\n"
     ]
    }
   ],
   "source": [
    "def search(matrix,target):\n",
    "    rows = len(matrix)\n",
    "    cols = len(matrix[0])\n",
    "    start_row = 0\n",
    "    end_row = len(matrix)-1\n",
    "    start_col = 0\n",
    "    end_col = len(matrix[0])-1\n",
    "    row = -1\n",
    "    column = -1\n",
    "    while(rows>0):\n",
    "        rows= int(rows/2)\n",
    "        mid_row = int((start_row+end_row)/2)\n",
    "        if( (matrix[mid_row][0] <= target) and (target <= matrix[mid_row][cols-1])):\n",
    "            row = mid_row\n",
    "            break\n",
    "        elif (matrix[mid_row][cols-1]<target):\n",
    "            start_row = mid_row+1\n",
    "        else:\n",
    "            end_row = mid_row-1\n",
    "    if(row == -1):\n",
    "        return False\n",
    "    else:\n",
    "        while(cols>0):\n",
    "            cols = int(cols/2)\n",
    "            mid_col = int((start_col + end_col)/2)\n",
    "            if(matrix[row][mid_col]==target):\n",
    "                column = mid_col\n",
    "                break\n",
    "            elif (matrix[row][mid_col]<target):\n",
    "                start_col = mid_col+1\n",
    "            else:\n",
    "                end_col = mid_col-1\n",
    "        if(column == -1):\n",
    "            return False\n",
    "        return True\n",
    "  \n",
    "matrix=[[1,3,5,7],[10,11,16,20],[23,30,34,60],[75,80,81,82],[90,94,96,97],[100,103,105,107]]\n",
    "target = 103\n",
    "print(search(matrix,target))"
   ]
  }
 ],
 "metadata": {
  "kernelspec": {
   "display_name": "Python 3 (ipykernel)",
   "language": "python",
   "name": "python3"
  },
  "language_info": {
   "codemirror_mode": {
    "name": "ipython",
    "version": 3
   },
   "file_extension": ".py",
   "mimetype": "text/x-python",
   "name": "python",
   "nbconvert_exporter": "python",
   "pygments_lexer": "ipython3",
   "version": "3.9.12"
  }
 },
 "nbformat": 4,
 "nbformat_minor": 5
}
